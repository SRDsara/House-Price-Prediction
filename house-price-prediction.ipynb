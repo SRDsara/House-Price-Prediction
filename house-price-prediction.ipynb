{
 "cells": [
  {
   "cell_type": "code",
   "execution_count": 3,
   "id": "9ffad70f",
   "metadata": {
    "execution": {
     "iopub.execute_input": "2023-09-06T13:53:15.573578Z",
     "iopub.status.busy": "2023-09-06T13:53:15.572882Z",
     "iopub.status.idle": "2023-09-06T13:53:17.720206Z",
     "shell.execute_reply": "2023-09-06T13:53:17.719021Z"
    },
    "papermill": {
     "duration": 2.163739,
     "end_time": "2023-09-06T13:53:17.722438",
     "exception": false,
     "start_time": "2023-09-06T13:53:15.558699",
     "status": "completed"
    },
    "tags": []
   },
   "outputs": [],
   "source": [
    "import matplotlib.pyplot as plt\n",
    "import numpy as np\n",
    "import pandas as pd\n",
    "import seaborn as sbn\n",
    "from sklearn import preprocessing\n",
    "from sklearn.ensemble import RandomForestRegressor\n",
    "from sklearn.linear_model import LinearRegression\n",
    "from sklearn.metrics import r2_score\n",
    "from sklearn.model_selection import train_test_split\n",
    "from sklearn.tree import DecisionTreeRegressor"
   ]
  },
  {
   "cell_type": "markdown",
   "id": "0ab233ce",
   "metadata": {
    "papermill": {
     "duration": 0.010131,
     "end_time": "2023-09-06T13:53:17.743553",
     "exception": false,
     "start_time": "2023-09-06T13:53:17.733422",
     "status": "completed"
    },
    "tags": []
   },
   "source": [
    "# 1- Importing Dataset"
   ]
  },
  {
   "cell_type": "code",
   "execution_count": 4,
   "id": "3401ce8a",
   "metadata": {
    "execution": {
     "iopub.execute_input": "2023-09-06T13:53:17.765909Z",
     "iopub.status.busy": "2023-09-06T13:53:17.765538Z",
     "iopub.status.idle": "2023-09-06T13:53:17.789131Z",
     "shell.execute_reply": "2023-09-06T13:53:17.787872Z"
    },
    "papermill": {
     "duration": 0.037512,
     "end_time": "2023-09-06T13:53:17.791391",
     "exception": false,
     "start_time": "2023-09-06T13:53:17.753879",
     "status": "completed"
    },
    "tags": []
   },
   "outputs": [],
   "source": [
    "df = pd.read_csv(\"F:\\\\tutorials\\machine learning\\machine_learning_with_python_jadi-main\\HousePrice.csv\")"
   ]
  },
  {
   "cell_type": "markdown",
   "id": "80114661",
   "metadata": {
    "papermill": {
     "duration": 0.011504,
     "end_time": "2023-09-06T13:53:17.814105",
     "exception": false,
     "start_time": "2023-09-06T13:53:17.802601",
     "status": "completed"
    },
    "tags": []
   },
   "source": [
    "# 2- Preprocessing"
   ]
  },
  {
   "cell_type": "code",
   "execution_count": 5,
   "id": "17dcd723",
   "metadata": {
    "execution": {
     "iopub.execute_input": "2023-09-06T13:53:17.836792Z",
     "iopub.status.busy": "2023-09-06T13:53:17.836456Z",
     "iopub.status.idle": "2023-09-06T13:53:17.859448Z",
     "shell.execute_reply": "2023-09-06T13:53:17.858562Z"
    },
    "papermill": {
     "duration": 0.036583,
     "end_time": "2023-09-06T13:53:17.861354",
     "exception": false,
     "start_time": "2023-09-06T13:53:17.824771",
     "status": "completed"
    },
    "tags": []
   },
   "outputs": [
    {
     "data": {
      "text/html": [
       "<div>\n",
       "<style scoped>\n",
       "    .dataframe tbody tr th:only-of-type {\n",
       "        vertical-align: middle;\n",
       "    }\n",
       "\n",
       "    .dataframe tbody tr th {\n",
       "        vertical-align: top;\n",
       "    }\n",
       "\n",
       "    .dataframe thead th {\n",
       "        text-align: right;\n",
       "    }\n",
       "</style>\n",
       "<table border=\"1\" class=\"dataframe\">\n",
       "  <thead>\n",
       "    <tr style=\"text-align: right;\">\n",
       "      <th></th>\n",
       "      <th>Area</th>\n",
       "      <th>Room</th>\n",
       "      <th>Parking</th>\n",
       "      <th>Warehouse</th>\n",
       "      <th>Elevator</th>\n",
       "      <th>Address</th>\n",
       "      <th>Price</th>\n",
       "      <th>Price(USD)</th>\n",
       "    </tr>\n",
       "  </thead>\n",
       "  <tbody>\n",
       "    <tr>\n",
       "      <th>0</th>\n",
       "      <td>63</td>\n",
       "      <td>1</td>\n",
       "      <td>True</td>\n",
       "      <td>True</td>\n",
       "      <td>True</td>\n",
       "      <td>Shahran</td>\n",
       "      <td>1.850000e+09</td>\n",
       "      <td>61666.67</td>\n",
       "    </tr>\n",
       "    <tr>\n",
       "      <th>1</th>\n",
       "      <td>60</td>\n",
       "      <td>1</td>\n",
       "      <td>True</td>\n",
       "      <td>True</td>\n",
       "      <td>True</td>\n",
       "      <td>Shahran</td>\n",
       "      <td>1.850000e+09</td>\n",
       "      <td>61666.67</td>\n",
       "    </tr>\n",
       "    <tr>\n",
       "      <th>2</th>\n",
       "      <td>79</td>\n",
       "      <td>2</td>\n",
       "      <td>True</td>\n",
       "      <td>True</td>\n",
       "      <td>True</td>\n",
       "      <td>Pardis</td>\n",
       "      <td>5.500000e+08</td>\n",
       "      <td>18333.33</td>\n",
       "    </tr>\n",
       "    <tr>\n",
       "      <th>3</th>\n",
       "      <td>95</td>\n",
       "      <td>2</td>\n",
       "      <td>True</td>\n",
       "      <td>True</td>\n",
       "      <td>True</td>\n",
       "      <td>Shahrake Qods</td>\n",
       "      <td>9.025000e+08</td>\n",
       "      <td>30083.33</td>\n",
       "    </tr>\n",
       "    <tr>\n",
       "      <th>4</th>\n",
       "      <td>123</td>\n",
       "      <td>2</td>\n",
       "      <td>True</td>\n",
       "      <td>True</td>\n",
       "      <td>True</td>\n",
       "      <td>Shahrake Gharb</td>\n",
       "      <td>7.000000e+09</td>\n",
       "      <td>233333.33</td>\n",
       "    </tr>\n",
       "  </tbody>\n",
       "</table>\n",
       "</div>"
      ],
      "text/plain": [
       "  Area  Room  Parking  Warehouse  Elevator         Address         Price   \n",
       "0   63     1     True       True      True         Shahran  1.850000e+09  \\\n",
       "1   60     1     True       True      True         Shahran  1.850000e+09   \n",
       "2   79     2     True       True      True          Pardis  5.500000e+08   \n",
       "3   95     2     True       True      True   Shahrake Qods  9.025000e+08   \n",
       "4  123     2     True       True      True  Shahrake Gharb  7.000000e+09   \n",
       "\n",
       "   Price(USD)  \n",
       "0    61666.67  \n",
       "1    61666.67  \n",
       "2    18333.33  \n",
       "3    30083.33  \n",
       "4   233333.33  "
      ]
     },
     "execution_count": 5,
     "metadata": {},
     "output_type": "execute_result"
    }
   ],
   "source": [
    "df.head()"
   ]
  },
  {
   "cell_type": "code",
   "execution_count": 6,
   "id": "61664fdb",
   "metadata": {
    "execution": {
     "iopub.execute_input": "2023-09-06T13:53:17.885229Z",
     "iopub.status.busy": "2023-09-06T13:53:17.884847Z",
     "iopub.status.idle": "2023-09-06T13:53:17.892427Z",
     "shell.execute_reply": "2023-09-06T13:53:17.890690Z"
    },
    "papermill": {
     "duration": 0.022784,
     "end_time": "2023-09-06T13:53:17.895269",
     "exception": false,
     "start_time": "2023-09-06T13:53:17.872485",
     "status": "completed"
    },
    "tags": []
   },
   "outputs": [
    {
     "data": {
      "text/plain": [
       "Area           object\n",
       "Room            int64\n",
       "Parking          bool\n",
       "Warehouse        bool\n",
       "Elevator         bool\n",
       "Address        object\n",
       "Price         float64\n",
       "Price(USD)    float64\n",
       "dtype: object"
      ]
     },
     "execution_count": 6,
     "metadata": {},
     "output_type": "execute_result"
    }
   ],
   "source": [
    "df.dtypes"
   ]
  },
  {
   "cell_type": "code",
   "execution_count": 7,
   "id": "2eee20dc",
   "metadata": {
    "execution": {
     "iopub.execute_input": "2023-09-06T13:53:17.921023Z",
     "iopub.status.busy": "2023-09-06T13:53:17.920455Z",
     "iopub.status.idle": "2023-09-06T13:53:17.933201Z",
     "shell.execute_reply": "2023-09-06T13:53:17.931517Z"
    },
    "papermill": {
     "duration": 0.028565,
     "end_time": "2023-09-06T13:53:17.935795",
     "exception": false,
     "start_time": "2023-09-06T13:53:17.907230",
     "status": "completed"
    },
    "tags": []
   },
   "outputs": [
    {
     "data": {
      "text/plain": [
       "Area           0\n",
       "Room           0\n",
       "Parking        0\n",
       "Warehouse      0\n",
       "Elevator       0\n",
       "Address       23\n",
       "Price          0\n",
       "Price(USD)     0\n",
       "dtype: int64"
      ]
     },
     "execution_count": 7,
     "metadata": {},
     "output_type": "execute_result"
    }
   ],
   "source": [
    "df.isnull().sum()"
   ]
  },
  {
   "cell_type": "code",
   "execution_count": 8,
   "id": "902d154a",
   "metadata": {
    "execution": {
     "iopub.execute_input": "2023-09-06T13:53:17.962240Z",
     "iopub.status.busy": "2023-09-06T13:53:17.961878Z",
     "iopub.status.idle": "2023-09-06T13:53:17.969694Z",
     "shell.execute_reply": "2023-09-06T13:53:17.968711Z"
    },
    "papermill": {
     "duration": 0.02327,
     "end_time": "2023-09-06T13:53:17.971624",
     "exception": false,
     "start_time": "2023-09-06T13:53:17.948354",
     "status": "completed"
    },
    "tags": []
   },
   "outputs": [
    {
     "data": {
      "text/plain": [
       "' 1,000 '"
      ]
     },
     "execution_count": 8,
     "metadata": {},
     "output_type": "execute_result"
    }
   ],
   "source": [
    "df[\"Area\"].min()"
   ]
  },
  {
   "cell_type": "code",
   "execution_count": 9,
   "id": "e8ebf712",
   "metadata": {
    "execution": {
     "iopub.execute_input": "2023-09-06T13:53:17.996739Z",
     "iopub.status.busy": "2023-09-06T13:53:17.996347Z",
     "iopub.status.idle": "2023-09-06T13:53:18.003959Z",
     "shell.execute_reply": "2023-09-06T13:53:18.002495Z"
    },
    "papermill": {
     "duration": 0.022231,
     "end_time": "2023-09-06T13:53:18.006215",
     "exception": false,
     "start_time": "2023-09-06T13:53:17.983984",
     "status": "completed"
    },
    "tags": []
   },
   "outputs": [
    {
     "data": {
      "text/plain": [
       "'99'"
      ]
     },
     "execution_count": 9,
     "metadata": {},
     "output_type": "execute_result"
    }
   ],
   "source": [
    "df[\"Area\"].max()"
   ]
  },
  {
   "cell_type": "markdown",
   "id": "6207e3d0",
   "metadata": {
    "papermill": {
     "duration": 0.011394,
     "end_time": "2023-09-06T13:53:18.029572",
     "exception": false,
     "start_time": "2023-09-06T13:53:18.018178",
     "status": "completed"
    },
    "tags": []
   },
   "source": [
    "## 2-1 Cleaning Dataset and Remove Outliners"
   ]
  },
  {
   "cell_type": "code",
   "execution_count": 10,
   "id": "adf5620d",
   "metadata": {
    "execution": {
     "iopub.execute_input": "2023-09-06T13:53:18.109101Z",
     "iopub.status.busy": "2023-09-06T13:53:18.108766Z",
     "iopub.status.idle": "2023-09-06T13:53:18.121577Z",
     "shell.execute_reply": "2023-09-06T13:53:18.120378Z"
    },
    "papermill": {
     "duration": 0.028437,
     "end_time": "2023-09-06T13:53:18.124238",
     "exception": false,
     "start_time": "2023-09-06T13:53:18.095801",
     "status": "completed"
    },
    "tags": []
   },
   "outputs": [],
   "source": [
    "df[\"Area\"] = df[\"Area\"].astype(\"str\").replace('\\D', '', regex=True).astype('int64')"
   ]
  },
  {
   "cell_type": "code",
   "execution_count": 11,
   "id": "4c20fabb",
   "metadata": {
    "execution": {
     "iopub.execute_input": "2023-09-06T13:53:18.149087Z",
     "iopub.status.busy": "2023-09-06T13:53:18.148697Z",
     "iopub.status.idle": "2023-09-06T13:53:18.156941Z",
     "shell.execute_reply": "2023-09-06T13:53:18.155994Z"
    },
    "papermill": {
     "duration": 0.022822,
     "end_time": "2023-09-06T13:53:18.158724",
     "exception": false,
     "start_time": "2023-09-06T13:53:18.135902",
     "status": "completed"
    },
    "tags": []
   },
   "outputs": [
    {
     "data": {
      "text/plain": [
       "Area            int64\n",
       "Room            int64\n",
       "Parking          bool\n",
       "Warehouse        bool\n",
       "Elevator         bool\n",
       "Address        object\n",
       "Price         float64\n",
       "Price(USD)    float64\n",
       "dtype: object"
      ]
     },
     "execution_count": 11,
     "metadata": {},
     "output_type": "execute_result"
    }
   ],
   "source": [
    "df.dtypes"
   ]
  },
  {
   "cell_type": "code",
   "execution_count": 12,
   "id": "45e1c601",
   "metadata": {
    "execution": {
     "iopub.execute_input": "2023-09-06T13:53:18.184133Z",
     "iopub.status.busy": "2023-09-06T13:53:18.183680Z",
     "iopub.status.idle": "2023-09-06T13:53:18.197852Z",
     "shell.execute_reply": "2023-09-06T13:53:18.196303Z"
    },
    "papermill": {
     "duration": 0.029218,
     "end_time": "2023-09-06T13:53:18.199789",
     "exception": false,
     "start_time": "2023-09-06T13:53:18.170571",
     "status": "completed"
    },
    "tags": []
   },
   "outputs": [],
   "source": [
    "df.drop(df[df['Area']<10].index,axis=0,inplace=True)\n",
    "df.drop(df[df['Area']>1000].index,axis=0,inplace=True)"
   ]
  },
  {
   "cell_type": "code",
   "execution_count": 13,
   "id": "2a493b1a",
   "metadata": {
    "execution": {
     "iopub.execute_input": "2023-09-06T13:53:18.226363Z",
     "iopub.status.busy": "2023-09-06T13:53:18.226039Z",
     "iopub.status.idle": "2023-09-06T13:53:18.233085Z",
     "shell.execute_reply": "2023-09-06T13:53:18.231982Z"
    },
    "papermill": {
     "duration": 0.023396,
     "end_time": "2023-09-06T13:53:18.235167",
     "exception": false,
     "start_time": "2023-09-06T13:53:18.211771",
     "status": "completed"
    },
    "tags": []
   },
   "outputs": [
    {
     "data": {
      "text/plain": [
       "30"
      ]
     },
     "execution_count": 13,
     "metadata": {},
     "output_type": "execute_result"
    }
   ],
   "source": [
    "df[\"Area\"].min()"
   ]
  },
  {
   "cell_type": "code",
   "execution_count": 14,
   "id": "c75f7a00",
   "metadata": {
    "execution": {
     "iopub.execute_input": "2023-09-06T13:53:18.261612Z",
     "iopub.status.busy": "2023-09-06T13:53:18.260276Z",
     "iopub.status.idle": "2023-09-06T13:53:18.268134Z",
     "shell.execute_reply": "2023-09-06T13:53:18.266814Z"
    },
    "papermill": {
     "duration": 0.023316,
     "end_time": "2023-09-06T13:53:18.270708",
     "exception": false,
     "start_time": "2023-09-06T13:53:18.247392",
     "status": "completed"
    },
    "tags": []
   },
   "outputs": [
    {
     "data": {
      "text/plain": [
       "1000"
      ]
     },
     "execution_count": 14,
     "metadata": {},
     "output_type": "execute_result"
    }
   ],
   "source": [
    "df[\"Area\"].max()"
   ]
  },
  {
   "cell_type": "code",
   "execution_count": 15,
   "id": "0cbe8ee6",
   "metadata": {
    "execution": {
     "iopub.execute_input": "2023-09-06T13:53:18.297264Z",
     "iopub.status.busy": "2023-09-06T13:53:18.296894Z",
     "iopub.status.idle": "2023-09-06T13:53:18.304423Z",
     "shell.execute_reply": "2023-09-06T13:53:18.303488Z"
    },
    "papermill": {
     "duration": 0.022855,
     "end_time": "2023-09-06T13:53:18.306374",
     "exception": false,
     "start_time": "2023-09-06T13:53:18.283519",
     "status": "completed"
    },
    "tags": []
   },
   "outputs": [],
   "source": [
    "df.dropna(inplace=True)"
   ]
  },
  {
   "cell_type": "code",
   "execution_count": 16,
   "id": "90fbd743",
   "metadata": {
    "execution": {
     "iopub.execute_input": "2023-09-06T13:53:18.331501Z",
     "iopub.status.busy": "2023-09-06T13:53:18.331075Z",
     "iopub.status.idle": "2023-09-06T13:53:18.340364Z",
     "shell.execute_reply": "2023-09-06T13:53:18.339016Z"
    },
    "papermill": {
     "duration": 0.024535,
     "end_time": "2023-09-06T13:53:18.342843",
     "exception": false,
     "start_time": "2023-09-06T13:53:18.318308",
     "status": "completed"
    },
    "tags": []
   },
   "outputs": [
    {
     "data": {
      "text/plain": [
       "Area          0\n",
       "Room          0\n",
       "Parking       0\n",
       "Warehouse     0\n",
       "Elevator      0\n",
       "Address       0\n",
       "Price         0\n",
       "Price(USD)    0\n",
       "dtype: int64"
      ]
     },
     "execution_count": 16,
     "metadata": {},
     "output_type": "execute_result"
    }
   ],
   "source": [
    "df.isnull().sum()"
   ]
  },
  {
   "cell_type": "markdown",
   "id": "3ee93938",
   "metadata": {
    "papermill": {
     "duration": 0.011785,
     "end_time": "2023-09-06T13:53:18.367037",
     "exception": false,
     "start_time": "2023-09-06T13:53:18.355252",
     "status": "completed"
    },
    "tags": []
   },
   "source": [
    "## 2-2 Label Encoding"
   ]
  },
  {
   "cell_type": "code",
   "execution_count": 17,
   "id": "bb15afb5",
   "metadata": {
    "execution": {
     "iopub.execute_input": "2023-09-06T13:53:18.393156Z",
     "iopub.status.busy": "2023-09-06T13:53:18.392829Z",
     "iopub.status.idle": "2023-09-06T13:53:18.399158Z",
     "shell.execute_reply": "2023-09-06T13:53:18.398111Z"
    },
    "papermill": {
     "duration": 0.02243,
     "end_time": "2023-09-06T13:53:18.401659",
     "exception": false,
     "start_time": "2023-09-06T13:53:18.379229",
     "status": "completed"
    },
    "tags": []
   },
   "outputs": [],
   "source": [
    "le_Parking = preprocessing.LabelEncoder()\n",
    "le_Parking.fit([\"FALSE\",\"TRUE\"])\n",
    "df[\"Parking\"] = le_Parking.fit_transform(df[\"Parking\"])"
   ]
  },
  {
   "cell_type": "code",
   "execution_count": 18,
   "id": "237e7f17",
   "metadata": {
    "execution": {
     "iopub.execute_input": "2023-09-06T13:53:18.428621Z",
     "iopub.status.busy": "2023-09-06T13:53:18.428250Z",
     "iopub.status.idle": "2023-09-06T13:53:18.434707Z",
     "shell.execute_reply": "2023-09-06T13:53:18.433656Z"
    },
    "papermill": {
     "duration": 0.02228,
     "end_time": "2023-09-06T13:53:18.436744",
     "exception": false,
     "start_time": "2023-09-06T13:53:18.414464",
     "status": "completed"
    },
    "tags": []
   },
   "outputs": [],
   "source": [
    "le_Warehouse = preprocessing.LabelEncoder()\n",
    "le_Warehouse.fit([\"FALSE\",\"TRUE\"])\n",
    "df[\"Warehouse\"] = le_Warehouse.fit_transform(df[\"Warehouse\"])"
   ]
  },
  {
   "cell_type": "code",
   "execution_count": 19,
   "id": "e9593058",
   "metadata": {
    "execution": {
     "iopub.execute_input": "2023-09-06T13:53:18.463470Z",
     "iopub.status.busy": "2023-09-06T13:53:18.463056Z",
     "iopub.status.idle": "2023-09-06T13:53:18.470115Z",
     "shell.execute_reply": "2023-09-06T13:53:18.468520Z"
    },
    "papermill": {
     "duration": 0.023458,
     "end_time": "2023-09-06T13:53:18.472684",
     "exception": false,
     "start_time": "2023-09-06T13:53:18.449226",
     "status": "completed"
    },
    "tags": []
   },
   "outputs": [],
   "source": [
    "le_Elevator = preprocessing.LabelEncoder()\n",
    "le_Elevator.fit([\"FALSE\",\"TRUE\"])\n",
    "df[\"Elevator\"] = le_Elevator.fit_transform(df[\"Elevator\"])"
   ]
  },
  {
   "cell_type": "code",
   "execution_count": 20,
   "id": "8a58399e",
   "metadata": {
    "execution": {
     "iopub.execute_input": "2023-09-06T13:53:18.500039Z",
     "iopub.status.busy": "2023-09-06T13:53:18.499683Z",
     "iopub.status.idle": "2023-09-06T13:53:18.511988Z",
     "shell.execute_reply": "2023-09-06T13:53:18.510716Z"
    },
    "papermill": {
     "duration": 0.027817,
     "end_time": "2023-09-06T13:53:18.513878",
     "exception": false,
     "start_time": "2023-09-06T13:53:18.486061",
     "status": "completed"
    },
    "tags": []
   },
   "outputs": [],
   "source": [
    "le_Address = preprocessing.LabelEncoder()\n",
    "le_Address.fit(df[\"Address\"].unique())\n",
    "df[\"Address\"] = le_Address.fit_transform(df[\"Address\"])"
   ]
  },
  {
   "cell_type": "markdown",
   "id": "5e63cbce",
   "metadata": {
    "papermill": {
     "duration": 0.011266,
     "end_time": "2023-09-06T13:53:18.537158",
     "exception": false,
     "start_time": "2023-09-06T13:53:18.525892",
     "status": "completed"
    },
    "tags": []
   },
   "source": [
    "## 2-3 Defining X(features) and y(labels)"
   ]
  },
  {
   "cell_type": "code",
   "execution_count": 21,
   "id": "dc1823bc",
   "metadata": {
    "execution": {
     "iopub.execute_input": "2023-09-06T13:53:18.562024Z",
     "iopub.status.busy": "2023-09-06T13:53:18.561705Z",
     "iopub.status.idle": "2023-09-06T13:53:18.571340Z",
     "shell.execute_reply": "2023-09-06T13:53:18.570188Z"
    },
    "papermill": {
     "duration": 0.024777,
     "end_time": "2023-09-06T13:53:18.573523",
     "exception": false,
     "start_time": "2023-09-06T13:53:18.548746",
     "status": "completed"
    },
    "tags": []
   },
   "outputs": [],
   "source": [
    "X = df[[\"Area\",\"Room\",\"Parking\",\"Warehouse\",\"Elevator\",\"Address\"]].to_numpy()\n",
    "y = df[[\"Price\",\"Price(USD)\"]].to_numpy()"
   ]
  },
  {
   "cell_type": "markdown",
   "id": "96bd0676",
   "metadata": {
    "papermill": {
     "duration": 0.012311,
     "end_time": "2023-09-06T13:53:18.598532",
     "exception": false,
     "start_time": "2023-09-06T13:53:18.586221",
     "status": "completed"
    },
    "tags": []
   },
   "source": [
    "## 2-4 Normalizing Dataset"
   ]
  },
  {
   "cell_type": "markdown",
   "id": "e77cf443",
   "metadata": {
    "papermill": {
     "duration": 0.011643,
     "end_time": "2023-09-06T13:53:18.622252",
     "exception": false,
     "start_time": "2023-09-06T13:53:18.610609",
     "status": "completed"
    },
    "tags": []
   },
   "source": [
    "### 2-4-1 Before Normalization"
   ]
  },
  {
   "cell_type": "code",
   "execution_count": 22,
   "id": "37dba420",
   "metadata": {
    "execution": {
     "iopub.execute_input": "2023-09-06T13:53:18.647690Z",
     "iopub.status.busy": "2023-09-06T13:53:18.647314Z",
     "iopub.status.idle": "2023-09-06T13:53:18.654346Z",
     "shell.execute_reply": "2023-09-06T13:53:18.652892Z"
    },
    "papermill": {
     "duration": 0.022941,
     "end_time": "2023-09-06T13:53:18.656912",
     "exception": false,
     "start_time": "2023-09-06T13:53:18.633971",
     "status": "completed"
    },
    "tags": []
   },
   "outputs": [
    {
     "name": "stdout",
     "output_type": "stream",
     "text": [
      "36.13078334782189 60.93687080452216\n"
     ]
    }
   ],
   "source": [
    "print(X.mean(), X.std())"
   ]
  },
  {
   "cell_type": "markdown",
   "id": "120ae712",
   "metadata": {
    "papermill": {
     "duration": 0.013666,
     "end_time": "2023-09-06T13:53:18.683595",
     "exception": false,
     "start_time": "2023-09-06T13:53:18.669929",
     "status": "completed"
    },
    "tags": []
   },
   "source": [
    "### 2-4-2 Normalization"
   ]
  },
  {
   "cell_type": "code",
   "execution_count": 23,
   "id": "4cd9cee5",
   "metadata": {
    "execution": {
     "iopub.execute_input": "2023-09-06T13:53:18.711159Z",
     "iopub.status.busy": "2023-09-06T13:53:18.710534Z",
     "iopub.status.idle": "2023-09-06T13:53:18.716716Z",
     "shell.execute_reply": "2023-09-06T13:53:18.715475Z"
    },
    "papermill": {
     "duration": 0.021842,
     "end_time": "2023-09-06T13:53:18.718708",
     "exception": false,
     "start_time": "2023-09-06T13:53:18.696866",
     "status": "completed"
    },
    "tags": []
   },
   "outputs": [],
   "source": [
    "scaler = preprocessing.StandardScaler().fit(X)\n",
    "X = scaler.fit_transform(X)"
   ]
  },
  {
   "cell_type": "markdown",
   "id": "a5ff2f21",
   "metadata": {
    "papermill": {
     "duration": 0.011881,
     "end_time": "2023-09-06T13:53:18.743072",
     "exception": false,
     "start_time": "2023-09-06T13:53:18.731191",
     "status": "completed"
    },
    "tags": []
   },
   "source": [
    "### 2-4-3 After Normalization"
   ]
  },
  {
   "cell_type": "code",
   "execution_count": 24,
   "id": "647b4676",
   "metadata": {
    "execution": {
     "iopub.execute_input": "2023-09-06T13:53:18.770441Z",
     "iopub.status.busy": "2023-09-06T13:53:18.769770Z",
     "iopub.status.idle": "2023-09-06T13:53:18.775260Z",
     "shell.execute_reply": "2023-09-06T13:53:18.773789Z"
    },
    "papermill": {
     "duration": 0.022356,
     "end_time": "2023-09-06T13:53:18.777169",
     "exception": false,
     "start_time": "2023-09-06T13:53:18.754813",
     "status": "completed"
    },
    "tags": []
   },
   "outputs": [
    {
     "name": "stdout",
     "output_type": "stream",
     "text": [
      "-1.647157892228572e-17 1.0\n"
     ]
    }
   ],
   "source": [
    "print(X.mean(), X.std())"
   ]
  },
  {
   "cell_type": "markdown",
   "id": "a74150ab",
   "metadata": {
    "papermill": {
     "duration": 0.013155,
     "end_time": "2023-09-06T13:53:18.803592",
     "exception": false,
     "start_time": "2023-09-06T13:53:18.790437",
     "status": "completed"
    },
    "tags": []
   },
   "source": [
    "## 2-5 Train Test Split"
   ]
  },
  {
   "cell_type": "code",
   "execution_count": 25,
   "id": "aee8e47d",
   "metadata": {
    "execution": {
     "iopub.execute_input": "2023-09-06T13:53:18.830156Z",
     "iopub.status.busy": "2023-09-06T13:53:18.829781Z",
     "iopub.status.idle": "2023-09-06T13:53:18.835654Z",
     "shell.execute_reply": "2023-09-06T13:53:18.834735Z"
    },
    "papermill": {
     "duration": 0.02201,
     "end_time": "2023-09-06T13:53:18.838085",
     "exception": false,
     "start_time": "2023-09-06T13:53:18.816075",
     "status": "completed"
    },
    "tags": []
   },
   "outputs": [],
   "source": [
    "X_train, X_test, y_train, y_test = train_test_split(X, y, random_state=0)"
   ]
  },
  {
   "cell_type": "markdown",
   "id": "30efafc9",
   "metadata": {
    "papermill": {
     "duration": 0.011562,
     "end_time": "2023-09-06T13:53:18.862357",
     "exception": false,
     "start_time": "2023-09-06T13:53:18.850795",
     "status": "completed"
    },
    "tags": []
   },
   "source": [
    "# 3- Training a Random Forest Model"
   ]
  },
  {
   "cell_type": "code",
   "execution_count": 26,
   "id": "af6055b2",
   "metadata": {
    "execution": {
     "iopub.execute_input": "2023-09-06T13:53:18.888429Z",
     "iopub.status.busy": "2023-09-06T13:53:18.888043Z",
     "iopub.status.idle": "2023-09-06T13:53:19.343861Z",
     "shell.execute_reply": "2023-09-06T13:53:19.342528Z"
    },
    "papermill": {
     "duration": 0.471345,
     "end_time": "2023-09-06T13:53:19.345912",
     "exception": false,
     "start_time": "2023-09-06T13:53:18.874567",
     "status": "completed"
    },
    "tags": []
   },
   "outputs": [
    {
     "data": {
      "text/html": [
       "<style>#sk-container-id-1 {color: black;background-color: white;}#sk-container-id-1 pre{padding: 0;}#sk-container-id-1 div.sk-toggleable {background-color: white;}#sk-container-id-1 label.sk-toggleable__label {cursor: pointer;display: block;width: 100%;margin-bottom: 0;padding: 0.3em;box-sizing: border-box;text-align: center;}#sk-container-id-1 label.sk-toggleable__label-arrow:before {content: \"▸\";float: left;margin-right: 0.25em;color: #696969;}#sk-container-id-1 label.sk-toggleable__label-arrow:hover:before {color: black;}#sk-container-id-1 div.sk-estimator:hover label.sk-toggleable__label-arrow:before {color: black;}#sk-container-id-1 div.sk-toggleable__content {max-height: 0;max-width: 0;overflow: hidden;text-align: left;background-color: #f0f8ff;}#sk-container-id-1 div.sk-toggleable__content pre {margin: 0.2em;color: black;border-radius: 0.25em;background-color: #f0f8ff;}#sk-container-id-1 input.sk-toggleable__control:checked~div.sk-toggleable__content {max-height: 200px;max-width: 100%;overflow: auto;}#sk-container-id-1 input.sk-toggleable__control:checked~label.sk-toggleable__label-arrow:before {content: \"▾\";}#sk-container-id-1 div.sk-estimator input.sk-toggleable__control:checked~label.sk-toggleable__label {background-color: #d4ebff;}#sk-container-id-1 div.sk-label input.sk-toggleable__control:checked~label.sk-toggleable__label {background-color: #d4ebff;}#sk-container-id-1 input.sk-hidden--visually {border: 0;clip: rect(1px 1px 1px 1px);clip: rect(1px, 1px, 1px, 1px);height: 1px;margin: -1px;overflow: hidden;padding: 0;position: absolute;width: 1px;}#sk-container-id-1 div.sk-estimator {font-family: monospace;background-color: #f0f8ff;border: 1px dotted black;border-radius: 0.25em;box-sizing: border-box;margin-bottom: 0.5em;}#sk-container-id-1 div.sk-estimator:hover {background-color: #d4ebff;}#sk-container-id-1 div.sk-parallel-item::after {content: \"\";width: 100%;border-bottom: 1px solid gray;flex-grow: 1;}#sk-container-id-1 div.sk-label:hover label.sk-toggleable__label {background-color: #d4ebff;}#sk-container-id-1 div.sk-serial::before {content: \"\";position: absolute;border-left: 1px solid gray;box-sizing: border-box;top: 0;bottom: 0;left: 50%;z-index: 0;}#sk-container-id-1 div.sk-serial {display: flex;flex-direction: column;align-items: center;background-color: white;padding-right: 0.2em;padding-left: 0.2em;position: relative;}#sk-container-id-1 div.sk-item {position: relative;z-index: 1;}#sk-container-id-1 div.sk-parallel {display: flex;align-items: stretch;justify-content: center;background-color: white;position: relative;}#sk-container-id-1 div.sk-item::before, #sk-container-id-1 div.sk-parallel-item::before {content: \"\";position: absolute;border-left: 1px solid gray;box-sizing: border-box;top: 0;bottom: 0;left: 50%;z-index: -1;}#sk-container-id-1 div.sk-parallel-item {display: flex;flex-direction: column;z-index: 1;position: relative;background-color: white;}#sk-container-id-1 div.sk-parallel-item:first-child::after {align-self: flex-end;width: 50%;}#sk-container-id-1 div.sk-parallel-item:last-child::after {align-self: flex-start;width: 50%;}#sk-container-id-1 div.sk-parallel-item:only-child::after {width: 0;}#sk-container-id-1 div.sk-dashed-wrapped {border: 1px dashed gray;margin: 0 0.4em 0.5em 0.4em;box-sizing: border-box;padding-bottom: 0.4em;background-color: white;}#sk-container-id-1 div.sk-label label {font-family: monospace;font-weight: bold;display: inline-block;line-height: 1.2em;}#sk-container-id-1 div.sk-label-container {text-align: center;}#sk-container-id-1 div.sk-container {/* jupyter's `normalize.less` sets `[hidden] { display: none; }` but bootstrap.min.css set `[hidden] { display: none !important; }` so we also need the `!important` here to be able to override the default hidden behavior on the sphinx rendered scikit-learn.org. See: https://github.com/scikit-learn/scikit-learn/issues/21755 */display: inline-block !important;position: relative;}#sk-container-id-1 div.sk-text-repr-fallback {display: none;}</style><div id=\"sk-container-id-1\" class=\"sk-top-container\"><div class=\"sk-text-repr-fallback\"><pre>RandomForestRegressor()</pre><b>In a Jupyter environment, please rerun this cell to show the HTML representation or trust the notebook. <br />On GitHub, the HTML representation is unable to render, please try loading this page with nbviewer.org.</b></div><div class=\"sk-container\" hidden><div class=\"sk-item\"><div class=\"sk-estimator sk-toggleable\"><input class=\"sk-toggleable__control sk-hidden--visually\" id=\"sk-estimator-id-1\" type=\"checkbox\" checked><label for=\"sk-estimator-id-1\" class=\"sk-toggleable__label sk-toggleable__label-arrow\">RandomForestRegressor</label><div class=\"sk-toggleable__content\"><pre>RandomForestRegressor()</pre></div></div></div></div></div>"
      ],
      "text/plain": [
       "RandomForestRegressor()"
      ]
     },
     "execution_count": 26,
     "metadata": {},
     "output_type": "execute_result"
    }
   ],
   "source": [
    "rfregr = RandomForestRegressor()\n",
    "rfregr.fit(X_train, y_train)"
   ]
  },
  {
   "cell_type": "code",
   "execution_count": 27,
   "id": "36b64235",
   "metadata": {
    "execution": {
     "iopub.execute_input": "2023-09-06T13:53:19.371780Z",
     "iopub.status.busy": "2023-09-06T13:53:19.371382Z",
     "iopub.status.idle": "2023-09-06T13:53:19.397192Z",
     "shell.execute_reply": "2023-09-06T13:53:19.395869Z"
    },
    "papermill": {
     "duration": 0.041558,
     "end_time": "2023-09-06T13:53:19.399837",
     "exception": false,
     "start_time": "2023-09-06T13:53:19.358279",
     "status": "completed"
    },
    "tags": []
   },
   "outputs": [],
   "source": [
    "rf_y_pred = rfregr.predict(X_test)"
   ]
  },
  {
   "cell_type": "markdown",
   "id": "8f07a9c7",
   "metadata": {
    "papermill": {
     "duration": 0.013008,
     "end_time": "2023-09-06T13:53:19.426085",
     "exception": false,
     "start_time": "2023-09-06T13:53:19.413077",
     "status": "completed"
    },
    "tags": []
   },
   "source": [
    "## 3-1 Model Evaluation"
   ]
  },
  {
   "cell_type": "code",
   "execution_count": 28,
   "id": "5070f994",
   "metadata": {
    "execution": {
     "iopub.execute_input": "2023-09-06T13:53:19.452941Z",
     "iopub.status.busy": "2023-09-06T13:53:19.452605Z",
     "iopub.status.idle": "2023-09-06T13:53:19.461071Z",
     "shell.execute_reply": "2023-09-06T13:53:19.459634Z"
    },
    "papermill": {
     "duration": 0.02489,
     "end_time": "2023-09-06T13:53:19.463867",
     "exception": false,
     "start_time": "2023-09-06T13:53:19.438977",
     "status": "completed"
    },
    "tags": []
   },
   "outputs": [
    {
     "data": {
      "text/plain": [
       "0.6615673942341271"
      ]
     },
     "execution_count": 28,
     "metadata": {},
     "output_type": "execute_result"
    }
   ],
   "source": [
    "r2_score(y_test, rf_y_pred)"
   ]
  },
  {
   "cell_type": "markdown",
   "id": "d5ba8f23",
   "metadata": {
    "papermill": {
     "duration": 0.014582,
     "end_time": "2023-09-06T13:53:19.491365",
     "exception": false,
     "start_time": "2023-09-06T13:53:19.476783",
     "status": "completed"
    },
    "tags": []
   },
   "source": [
    "# 4- Training a Desicion Tree Model"
   ]
  },
  {
   "cell_type": "markdown",
   "id": "89df618c",
   "metadata": {
    "papermill": {
     "duration": 0.012077,
     "end_time": "2023-09-06T13:53:19.515845",
     "exception": false,
     "start_time": "2023-09-06T13:53:19.503768",
     "status": "completed"
    },
    "tags": []
   },
   "source": [
    "## 4-1 Finding the best depth for model "
   ]
  },
  {
   "cell_type": "code",
   "execution_count": 29,
   "id": "3278787f",
   "metadata": {
    "execution": {
     "iopub.execute_input": "2023-09-06T13:53:19.542487Z",
     "iopub.status.busy": "2023-09-06T13:53:19.542144Z",
     "iopub.status.idle": "2023-09-06T13:53:20.095306Z",
     "shell.execute_reply": "2023-09-06T13:53:20.093989Z"
    },
    "papermill": {
     "duration": 0.569124,
     "end_time": "2023-09-06T13:53:20.097468",
     "exception": false,
     "start_time": "2023-09-06T13:53:19.528344",
     "status": "completed"
    },
    "tags": []
   },
   "outputs": [],
   "source": [
    "scores = []\n",
    "for depth in range(1,100):\n",
    "    dtregr = DecisionTreeRegressor(max_depth=depth)\n",
    "    dtregr.fit(X_train, y_train)\n",
    "    dt_y_pred = dtregr.predict(X_test)\n",
    "    scores.append(r2_score(y_test, dt_y_pred))"
   ]
  },
  {
   "cell_type": "code",
   "execution_count": 30,
   "id": "746ae852",
   "metadata": {
    "execution": {
     "iopub.execute_input": "2023-09-06T13:53:20.124246Z",
     "iopub.status.busy": "2023-09-06T13:53:20.123915Z",
     "iopub.status.idle": "2023-09-06T13:53:20.420116Z",
     "shell.execute_reply": "2023-09-06T13:53:20.419057Z"
    },
    "papermill": {
     "duration": 0.31235,
     "end_time": "2023-09-06T13:53:20.422697",
     "exception": false,
     "start_time": "2023-09-06T13:53:20.110347",
     "status": "completed"
    },
    "tags": []
   },
   "outputs": [
    {
     "data": {
      "image/png": "[encoded data removed]",
      "text/plain": [
       "<Figure size 640x480 with 1 Axes>"
      ]
     },
     "metadata": {},
     "output_type": "display_data"
    }
   ],
   "source": [
    "plt.bar(range(len(scores)), scores)\n",
    "plt.show()"
   ]
  },
  {
   "cell_type": "code",
   "execution_count": 31,
   "id": "4b3397dc",
   "metadata": {
    "execution": {
     "iopub.execute_input": "2023-09-06T13:53:20.451139Z",
     "iopub.status.busy": "2023-09-06T13:53:20.450784Z",
     "iopub.status.idle": "2023-09-06T13:53:20.456100Z",
     "shell.execute_reply": "2023-09-06T13:53:20.454776Z"
    },
    "papermill": {
     "duration": 0.022487,
     "end_time": "2023-09-06T13:53:20.458101",
     "exception": false,
     "start_time": "2023-09-06T13:53:20.435614",
     "status": "completed"
    },
    "tags": []
   },
   "outputs": [],
   "source": [
    "depth = scores.index(max(scores))"
   ]
  },
  {
   "cell_type": "markdown",
   "id": "2981376d",
   "metadata": {
    "papermill": {
     "duration": 0.014564,
     "end_time": "2023-09-06T13:53:20.485447",
     "exception": false,
     "start_time": "2023-09-06T13:53:20.470883",
     "status": "completed"
    },
    "tags": []
   },
   "source": [
    "## 4-2 Modeling With The Best Depth"
   ]
  },
  {
   "cell_type": "code",
   "execution_count": 32,
   "id": "a683d078",
   "metadata": {
    "execution": {
     "iopub.execute_input": "2023-09-06T13:53:20.511793Z",
     "iopub.status.busy": "2023-09-06T13:53:20.511439Z",
     "iopub.status.idle": "2023-09-06T13:53:20.520008Z",
     "shell.execute_reply": "2023-09-06T13:53:20.518981Z"
    },
    "papermill": {
     "duration": 0.023684,
     "end_time": "2023-09-06T13:53:20.521806",
     "exception": false,
     "start_time": "2023-09-06T13:53:20.498122",
     "status": "completed"
    },
    "tags": []
   },
   "outputs": [
    {
     "data": {
      "text/html": [
       "<style>#sk-container-id-2 {color: black;background-color: white;}#sk-container-id-2 pre{padding: 0;}#sk-container-id-2 div.sk-toggleable {background-color: white;}#sk-container-id-2 label.sk-toggleable__label {cursor: pointer;display: block;width: 100%;margin-bottom: 0;padding: 0.3em;box-sizing: border-box;text-align: center;}#sk-container-id-2 label.sk-toggleable__label-arrow:before {content: \"▸\";float: left;margin-right: 0.25em;color: #696969;}#sk-container-id-2 label.sk-toggleable__label-arrow:hover:before {color: black;}#sk-container-id-2 div.sk-estimator:hover label.sk-toggleable__label-arrow:before {color: black;}#sk-container-id-2 div.sk-toggleable__content {max-height: 0;max-width: 0;overflow: hidden;text-align: left;background-color: #f0f8ff;}#sk-container-id-2 div.sk-toggleable__content pre {margin: 0.2em;color: black;border-radius: 0.25em;background-color: #f0f8ff;}#sk-container-id-2 input.sk-toggleable__control:checked~div.sk-toggleable__content {max-height: 200px;max-width: 100%;overflow: auto;}#sk-container-id-2 input.sk-toggleable__control:checked~label.sk-toggleable__label-arrow:before {content: \"▾\";}#sk-container-id-2 div.sk-estimator input.sk-toggleable__control:checked~label.sk-toggleable__label {background-color: #d4ebff;}#sk-container-id-2 div.sk-label input.sk-toggleable__control:checked~label.sk-toggleable__label {background-color: #d4ebff;}#sk-container-id-2 input.sk-hidden--visually {border: 0;clip: rect(1px 1px 1px 1px);clip: rect(1px, 1px, 1px, 1px);height: 1px;margin: -1px;overflow: hidden;padding: 0;position: absolute;width: 1px;}#sk-container-id-2 div.sk-estimator {font-family: monospace;background-color: #f0f8ff;border: 1px dotted black;border-radius: 0.25em;box-sizing: border-box;margin-bottom: 0.5em;}#sk-container-id-2 div.sk-estimator:hover {background-color: #d4ebff;}#sk-container-id-2 div.sk-parallel-item::after {content: \"\";width: 100%;border-bottom: 1px solid gray;flex-grow: 1;}#sk-container-id-2 div.sk-label:hover label.sk-toggleable__label {background-color: #d4ebff;}#sk-container-id-2 div.sk-serial::before {content: \"\";position: absolute;border-left: 1px solid gray;box-sizing: border-box;top: 0;bottom: 0;left: 50%;z-index: 0;}#sk-container-id-2 div.sk-serial {display: flex;flex-direction: column;align-items: center;background-color: white;padding-right: 0.2em;padding-left: 0.2em;position: relative;}#sk-container-id-2 div.sk-item {position: relative;z-index: 1;}#sk-container-id-2 div.sk-parallel {display: flex;align-items: stretch;justify-content: center;background-color: white;position: relative;}#sk-container-id-2 div.sk-item::before, #sk-container-id-2 div.sk-parallel-item::before {content: \"\";position: absolute;border-left: 1px solid gray;box-sizing: border-box;top: 0;bottom: 0;left: 50%;z-index: -1;}#sk-container-id-2 div.sk-parallel-item {display: flex;flex-direction: column;z-index: 1;position: relative;background-color: white;}#sk-container-id-2 div.sk-parallel-item:first-child::after {align-self: flex-end;width: 50%;}#sk-container-id-2 div.sk-parallel-item:last-child::after {align-self: flex-start;width: 50%;}#sk-container-id-2 div.sk-parallel-item:only-child::after {width: 0;}#sk-container-id-2 div.sk-dashed-wrapped {border: 1px dashed gray;margin: 0 0.4em 0.5em 0.4em;box-sizing: border-box;padding-bottom: 0.4em;background-color: white;}#sk-container-id-2 div.sk-label label {font-family: monospace;font-weight: bold;display: inline-block;line-height: 1.2em;}#sk-container-id-2 div.sk-label-container {text-align: center;}#sk-container-id-2 div.sk-container {/* jupyter's `normalize.less` sets `[hidden] { display: none; }` but bootstrap.min.css set `[hidden] { display: none !important; }` so we also need the `!important` here to be able to override the default hidden behavior on the sphinx rendered scikit-learn.org. See: https://github.com/scikit-learn/scikit-learn/issues/21755 */display: inline-block !important;position: relative;}#sk-container-id-2 div.sk-text-repr-fallback {display: none;}</style><div id=\"sk-container-id-2\" class=\"sk-top-container\"><div class=\"sk-text-repr-fallback\"><pre>DecisionTreeRegressor(max_depth=4)</pre><b>In a Jupyter environment, please rerun this cell to show the HTML representation or trust the notebook. <br />On GitHub, the HTML representation is unable to render, please try loading this page with nbviewer.org.</b></div><div class=\"sk-container\" hidden><div class=\"sk-item\"><div class=\"sk-estimator sk-toggleable\"><input class=\"sk-toggleable__control sk-hidden--visually\" id=\"sk-estimator-id-2\" type=\"checkbox\" checked><label for=\"sk-estimator-id-2\" class=\"sk-toggleable__label sk-toggleable__label-arrow\">DecisionTreeRegressor</label><div class=\"sk-toggleable__content\"><pre>DecisionTreeRegressor(max_depth=4)</pre></div></div></div></div></div>"
      ],
      "text/plain": [
       "DecisionTreeRegressor(max_depth=4)"
      ]
     },
     "execution_count": 32,
     "metadata": {},
     "output_type": "execute_result"
    }
   ],
   "source": [
    "dtregr = DecisionTreeRegressor(max_depth=depth)\n",
    "dtregr.fit(X_train, y_train)"
   ]
  },
  {
   "cell_type": "code",
   "execution_count": 33,
   "id": "f08fa5a9",
   "metadata": {
    "execution": {
     "iopub.execute_input": "2023-09-06T13:53:20.550630Z",
     "iopub.status.busy": "2023-09-06T13:53:20.549991Z",
     "iopub.status.idle": "2023-09-06T13:53:20.555001Z",
     "shell.execute_reply": "2023-09-06T13:53:20.553998Z"
    },
    "papermill": {
     "duration": 0.021846,
     "end_time": "2023-09-06T13:53:20.557384",
     "exception": false,
     "start_time": "2023-09-06T13:53:20.535538",
     "status": "completed"
    },
    "tags": []
   },
   "outputs": [],
   "source": [
    "dt_y_pred = dtregr.predict(X_test)"
   ]
  },
  {
   "cell_type": "markdown",
   "id": "b30dbd97",
   "metadata": {
    "papermill": {
     "duration": 0.013133,
     "end_time": "2023-09-06T13:53:20.584224",
     "exception": false,
     "start_time": "2023-09-06T13:53:20.571091",
     "status": "completed"
    },
    "tags": []
   },
   "source": [
    "### 4-2-1 Model Evaluation"
   ]
  },
  {
   "cell_type": "code",
   "execution_count": 34,
   "id": "f15864c7",
   "metadata": {
    "execution": {
     "iopub.execute_input": "2023-09-06T13:53:20.612057Z",
     "iopub.status.busy": "2023-09-06T13:53:20.611714Z",
     "iopub.status.idle": "2023-09-06T13:53:20.620315Z",
     "shell.execute_reply": "2023-09-06T13:53:20.618967Z"
    },
    "papermill": {
     "duration": 0.025818,
     "end_time": "2023-09-06T13:53:20.623005",
     "exception": false,
     "start_time": "2023-09-06T13:53:20.597187",
     "status": "completed"
    },
    "tags": []
   },
   "outputs": [
    {
     "data": {
      "text/plain": [
       "0.6285558124853255"
      ]
     },
     "execution_count": 34,
     "metadata": {},
     "output_type": "execute_result"
    }
   ],
   "source": [
    "r2_score(y_test, dt_y_pred)"
   ]
  },
  {
   "cell_type": "markdown",
   "id": "a9f0a0dc",
   "metadata": {
    "papermill": {
     "duration": 0.012852,
     "end_time": "2023-09-06T13:53:20.649830",
     "exception": false,
     "start_time": "2023-09-06T13:53:20.636978",
     "status": "completed"
    },
    "tags": []
   },
   "source": [
    "# 5- Training a Linear Regression Model"
   ]
  },
  {
   "cell_type": "code",
   "execution_count": 35,
   "id": "00ca1119",
   "metadata": {
    "execution": {
     "iopub.execute_input": "2023-09-06T13:53:20.677744Z",
     "iopub.status.busy": "2023-09-06T13:53:20.677354Z",
     "iopub.status.idle": "2023-09-06T13:53:20.706964Z",
     "shell.execute_reply": "2023-09-06T13:53:20.706065Z"
    },
    "papermill": {
     "duration": 0.046532,
     "end_time": "2023-09-06T13:53:20.709430",
     "exception": false,
     "start_time": "2023-09-06T13:53:20.662898",
     "status": "completed"
    },
    "tags": []
   },
   "outputs": [
    {
     "data": {
      "text/html": [
       "<style>#sk-container-id-3 {color: black;background-color: white;}#sk-container-id-3 pre{padding: 0;}#sk-container-id-3 div.sk-toggleable {background-color: white;}#sk-container-id-3 label.sk-toggleable__label {cursor: pointer;display: block;width: 100%;margin-bottom: 0;padding: 0.3em;box-sizing: border-box;text-align: center;}#sk-container-id-3 label.sk-toggleable__label-arrow:before {content: \"▸\";float: left;margin-right: 0.25em;color: #696969;}#sk-container-id-3 label.sk-toggleable__label-arrow:hover:before {color: black;}#sk-container-id-3 div.sk-estimator:hover label.sk-toggleable__label-arrow:before {color: black;}#sk-container-id-3 div.sk-toggleable__content {max-height: 0;max-width: 0;overflow: hidden;text-align: left;background-color: #f0f8ff;}#sk-container-id-3 div.sk-toggleable__content pre {margin: 0.2em;color: black;border-radius: 0.25em;background-color: #f0f8ff;}#sk-container-id-3 input.sk-toggleable__control:checked~div.sk-toggleable__content {max-height: 200px;max-width: 100%;overflow: auto;}#sk-container-id-3 input.sk-toggleable__control:checked~label.sk-toggleable__label-arrow:before {content: \"▾\";}#sk-container-id-3 div.sk-estimator input.sk-toggleable__control:checked~label.sk-toggleable__label {background-color: #d4ebff;}#sk-container-id-3 div.sk-label input.sk-toggleable__control:checked~label.sk-toggleable__label {background-color: #d4ebff;}#sk-container-id-3 input.sk-hidden--visually {border: 0;clip: rect(1px 1px 1px 1px);clip: rect(1px, 1px, 1px, 1px);height: 1px;margin: -1px;overflow: hidden;padding: 0;position: absolute;width: 1px;}#sk-container-id-3 div.sk-estimator {font-family: monospace;background-color: #f0f8ff;border: 1px dotted black;border-radius: 0.25em;box-sizing: border-box;margin-bottom: 0.5em;}#sk-container-id-3 div.sk-estimator:hover {background-color: #d4ebff;}#sk-container-id-3 div.sk-parallel-item::after {content: \"\";width: 100%;border-bottom: 1px solid gray;flex-grow: 1;}#sk-container-id-3 div.sk-label:hover label.sk-toggleable__label {background-color: #d4ebff;}#sk-container-id-3 div.sk-serial::before {content: \"\";position: absolute;border-left: 1px solid gray;box-sizing: border-box;top: 0;bottom: 0;left: 50%;z-index: 0;}#sk-container-id-3 div.sk-serial {display: flex;flex-direction: column;align-items: center;background-color: white;padding-right: 0.2em;padding-left: 0.2em;position: relative;}#sk-container-id-3 div.sk-item {position: relative;z-index: 1;}#sk-container-id-3 div.sk-parallel {display: flex;align-items: stretch;justify-content: center;background-color: white;position: relative;}#sk-container-id-3 div.sk-item::before, #sk-container-id-3 div.sk-parallel-item::before {content: \"\";position: absolute;border-left: 1px solid gray;box-sizing: border-box;top: 0;bottom: 0;left: 50%;z-index: -1;}#sk-container-id-3 div.sk-parallel-item {display: flex;flex-direction: column;z-index: 1;position: relative;background-color: white;}#sk-container-id-3 div.sk-parallel-item:first-child::after {align-self: flex-end;width: 50%;}#sk-container-id-3 div.sk-parallel-item:last-child::after {align-self: flex-start;width: 50%;}#sk-container-id-3 div.sk-parallel-item:only-child::after {width: 0;}#sk-container-id-3 div.sk-dashed-wrapped {border: 1px dashed gray;margin: 0 0.4em 0.5em 0.4em;box-sizing: border-box;padding-bottom: 0.4em;background-color: white;}#sk-container-id-3 div.sk-label label {font-family: monospace;font-weight: bold;display: inline-block;line-height: 1.2em;}#sk-container-id-3 div.sk-label-container {text-align: center;}#sk-container-id-3 div.sk-container {/* jupyter's `normalize.less` sets `[hidden] { display: none; }` but bootstrap.min.css set `[hidden] { display: none !important; }` so we also need the `!important` here to be able to override the default hidden behavior on the sphinx rendered scikit-learn.org. See: https://github.com/scikit-learn/scikit-learn/issues/21755 */display: inline-block !important;position: relative;}#sk-container-id-3 div.sk-text-repr-fallback {display: none;}</style><div id=\"sk-container-id-3\" class=\"sk-top-container\"><div class=\"sk-text-repr-fallback\"><pre>LinearRegression()</pre><b>In a Jupyter environment, please rerun this cell to show the HTML representation or trust the notebook. <br />On GitHub, the HTML representation is unable to render, please try loading this page with nbviewer.org.</b></div><div class=\"sk-container\" hidden><div class=\"sk-item\"><div class=\"sk-estimator sk-toggleable\"><input class=\"sk-toggleable__control sk-hidden--visually\" id=\"sk-estimator-id-3\" type=\"checkbox\" checked><label for=\"sk-estimator-id-3\" class=\"sk-toggleable__label sk-toggleable__label-arrow\">LinearRegression</label><div class=\"sk-toggleable__content\"><pre>LinearRegression()</pre></div></div></div></div></div>"
      ],
      "text/plain": [
       "LinearRegression()"
      ]
     },
     "execution_count": 35,
     "metadata": {},
     "output_type": "execute_result"
    }
   ],
   "source": [
    "lrregr = LinearRegression()\n",
    "lrregr.fit(X_train, y_train)"
   ]
  },
  {
   "cell_type": "code",
   "execution_count": 36,
   "id": "4d60bd69",
   "metadata": {
    "execution": {
     "iopub.execute_input": "2023-09-06T13:53:20.737397Z",
     "iopub.status.busy": "2023-09-06T13:53:20.736990Z",
     "iopub.status.idle": "2023-09-06T13:53:20.741337Z",
     "shell.execute_reply": "2023-09-06T13:53:20.740744Z"
    },
    "papermill": {
     "duration": 0.020197,
     "end_time": "2023-09-06T13:53:20.743055",
     "exception": false,
     "start_time": "2023-09-06T13:53:20.722858",
     "status": "completed"
    },
    "tags": []
   },
   "outputs": [],
   "source": [
    "lr_y_pred = lrregr.predict(X_test)"
   ]
  },
  {
   "cell_type": "markdown",
   "id": "de733064",
   "metadata": {
    "papermill": {
     "duration": 0.013013,
     "end_time": "2023-09-06T13:53:20.770372",
     "exception": false,
     "start_time": "2023-09-06T13:53:20.757359",
     "status": "completed"
    },
    "tags": []
   },
   "source": [
    "## 5-1 Model Evaluation"
   ]
  },
  {
   "cell_type": "code",
   "execution_count": 37,
   "id": "fb51d63a",
   "metadata": {
    "execution": {
     "iopub.execute_input": "2023-09-06T13:53:20.799337Z",
     "iopub.status.busy": "2023-09-06T13:53:20.798945Z",
     "iopub.status.idle": "2023-09-06T13:53:20.806578Z",
     "shell.execute_reply": "2023-09-06T13:53:20.805363Z"
    },
    "papermill": {
     "duration": 0.024888,
     "end_time": "2023-09-06T13:53:20.808537",
     "exception": false,
     "start_time": "2023-09-06T13:53:20.783649",
     "status": "completed"
    },
    "tags": []
   },
   "outputs": [
    {
     "data": {
      "text/plain": [
       "0.5372240925168675"
      ]
     },
     "execution_count": 37,
     "metadata": {},
     "output_type": "execute_result"
    }
   ],
   "source": [
    "r2_score(y_test,lr_y_pred)"
   ]
  },
  {
   "cell_type": "markdown",
   "id": "0cf5d56e",
   "metadata": {
    "papermill": {
     "duration": 0.012803,
     "end_time": "2023-09-06T13:53:20.834778",
     "exception": false,
     "start_time": "2023-09-06T13:53:20.821975",
     "status": "completed"
    },
    "tags": []
   },
   "source": [
    "# According to R2 scores, it is concluded that the random forest model is the best model."
   ]
  }
 ],
 "kernelspec": {
  "display_name": "Python 3",
  "language": "python",
  "name": "python3"
 },
 "language_info": {
  "codemirror_mode": {
   "name": "ipython",
   "version": 3
  },
  "file_extension": ".py",
  "mimetype": "text/x-python",
  "name": "python",
  "nbconvert_exporter": "python",
  "pygments_lexer": "ipython3",
  "version": "3.6.4"
 },
 "metadata": {
  "kernelspec": {
   "display_name": "Python 3",
   "language": "python",
   "name": "python3"
  },
  "language_info": {
   "codemirror_mode": {
    "name": "ipython",
    "version": 3
   },
   "file_extension": ".py",
   "mimetype": "text/x-python",
   "name": "python",
   "nbconvert_exporter": "python",
   "pygments_lexer": "ipython3",
   "version": "3.11.3"
  },
  "papermill": {
   "default_parameters": {},
   "duration": 8.674568,
   "end_time": "2023-09-06T13:53:21.069851",
   "environment_variables": {},
   "exception": null,
   "input_path": "__notebook__.ipynb",
   "output_path": "__notebook__.ipynb",
   "parameters": {},
   "start_time": "2023-09-06T13:53:12.395283",
   "version": "2.4.0"
  }
 },
 "nbformat": 4,
 "nbformat_minor": 5
}
